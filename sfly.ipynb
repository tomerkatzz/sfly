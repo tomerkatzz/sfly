{
 "cells": [
  {
   "cell_type": "code",
   "execution_count": 1,
   "metadata": {},
   "outputs": [],
   "source": [
    "import pandas as pd\n",
    "import numpy as np\n",
    "import csv\n",
    "import matplotlib.pyplot as plt\n",
    "import seaborn as sns\n",
    "import scipy.stats as stats\n",
    "from sklearn.linear_model import LogisticRegression\n",
    "from sklearn.ensemble import RandomForestClassifier\n",
    "from sklearn.metrics import confusion_matrix\n",
    "from sklearn.metrics import classification_report\n",
    "from sklearn.metrics import plot_confusion_matrix\n",
    "from sklearn.model_selection import train_test_split\n",
    "%matplotlib notebook\n",
    "plt.style.use('seaborn-colorblind')\n",
    "sns.set_style('white')\n",
    "pd.set_option('display.max_columns', 500)\n",
    "pd.set_option('display.max_colwidth', 500)\n",
    "pd.set_option('display.max_rows', 5000)\n",
    "pd.set_option('display.width', 1000)\n",
    "pd.options.display.max_seq_items = 2000"
   ]
  },
  {
   "cell_type": "markdown",
   "metadata": {},
   "source": [
    "## Load data"
   ]
  },
  {
   "cell_type": "code",
   "execution_count": 2,
   "metadata": {},
   "outputs": [],
   "source": [
    "online_data = pd.read_csv('/exlibris/urm/tomerk/playground/sfly/online.csv', sep=',', encoding='utf-8', quoting=csv.QUOTE_NONE)\n",
    "order_data = pd.read_csv('/exlibris/urm/tomerk/playground/sfly/order.csv', sep=',', encoding='utf-8', quoting=csv.QUOTE_NONE)"
   ]
  },
  {
   "cell_type": "markdown",
   "metadata": {},
   "source": [
    "### Exploring order data"
   ]
  },
  {
   "cell_type": "code",
   "execution_count": 3,
   "metadata": {},
   "outputs": [
    {
     "name": "stdout",
     "output_type": "stream",
     "text": [
      "              custno          ordno       prodcat2       prodcat1        revenue\n",
      "count  263278.000000  263278.000000  261455.000000  263278.000000  263278.000000\n",
      "mean    19244.733855   64173.395620      37.384330       2.920924      74.939302\n",
      "std     19414.103037   43064.595961      44.639098       1.696565      43.277175\n",
      "min         1.000000       1.000000       2.000000       1.000000       0.000000\n",
      "25%      3438.000000   26505.000000       5.000000       2.000000      37.430000\n",
      "50%     11389.500000   59040.500000      16.000000       2.000000      74.930000\n",
      "75%     31459.000000   98340.750000      58.000000       4.000000     112.280000\n",
      "max     71427.000000  154405.000000     263.000000       7.000000     150.000000\n",
      "prodcat2 has 1823 null values (small amount)\n",
      "Target Catergories: [1 7 3 2 4 5]\n"
     ]
    },
    {
     "data": {
      "text/html": [
       "<div>\n",
       "<style scoped>\n",
       "    .dataframe tbody tr th:only-of-type {\n",
       "        vertical-align: middle;\n",
       "    }\n",
       "\n",
       "    .dataframe tbody tr th {\n",
       "        vertical-align: top;\n",
       "    }\n",
       "\n",
       "    .dataframe thead th {\n",
       "        text-align: right;\n",
       "    }\n",
       "</style>\n",
       "<table border=\"1\" class=\"dataframe\">\n",
       "  <thead>\n",
       "    <tr style=\"text-align: right;\">\n",
       "      <th></th>\n",
       "      <th>custno</th>\n",
       "      <th>ordno</th>\n",
       "      <th>orderdate</th>\n",
       "      <th>prodcat2</th>\n",
       "      <th>prodcat1</th>\n",
       "      <th>revenue</th>\n",
       "    </tr>\n",
       "  </thead>\n",
       "  <tbody>\n",
       "    <tr>\n",
       "      <th>0</th>\n",
       "      <td>18944</td>\n",
       "      <td>64694</td>\n",
       "      <td>2016-11-27 20:57:20</td>\n",
       "      <td>NaN</td>\n",
       "      <td>1</td>\n",
       "      <td>53.3</td>\n",
       "    </tr>\n",
       "    <tr>\n",
       "      <th>1</th>\n",
       "      <td>18944</td>\n",
       "      <td>114405</td>\n",
       "      <td>2017-04-29 20:18:04</td>\n",
       "      <td>NaN</td>\n",
       "      <td>1</td>\n",
       "      <td>0.1</td>\n",
       "    </tr>\n",
       "  </tbody>\n",
       "</table>\n",
       "</div>"
      ],
      "text/plain": [
       "   custno   ordno            orderdate  prodcat2  prodcat1  revenue\n",
       "0   18944   64694  2016-11-27 20:57:20       NaN         1     53.3\n",
       "1   18944  114405  2017-04-29 20:18:04       NaN         1      0.1"
      ]
     },
     "execution_count": 3,
     "metadata": {},
     "output_type": "execute_result"
    }
   ],
   "source": [
    "print(order_data.describe())\n",
    "print('prodcat2 has {} null values (small amount)'.format(order_data['prodcat2'].isna().sum()))\n",
    "print('Target Catergories:',order_data.prodcat1.unique())\n",
    "order_data.head(2)"
   ]
  },
  {
   "cell_type": "markdown",
   "metadata": {},
   "source": [
    "### Exploring online data"
   ]
  },
  {
   "cell_type": "code",
   "execution_count": 4,
   "metadata": {},
   "outputs": [
    {
     "name": "stdout",
     "output_type": "stream",
     "text": [
      "            session        visitor         custno       category         event1         event2\n",
      "count  9.547740e+05  954774.000000  954774.000000  954774.000000  164928.000000  954774.000000\n",
      "mean   1.893075e+06  246963.121538   37011.541473       2.684933       4.501576       5.666678\n",
      "std    1.086779e+06  145929.540403   21559.691539       0.571617       3.494639       2.368242\n",
      "min    2.000000e+00       1.000000       6.000000       1.000000       1.000000       1.000000\n",
      "25%    9.554362e+05  125528.250000   17985.000000       2.000000       1.000000       4.000000\n",
      "50%    1.903075e+06  252901.000000   38040.000000       3.000000       4.000000       7.000000\n",
      "75%    2.845886e+06  377563.000000   56516.000000       3.000000       7.000000       7.000000\n",
      "max    3.750761e+06  505850.000000   71427.000000       3.000000      11.000000      10.000000\n",
      "Target Catergories: [1 2 3]\n",
      "Event1 has 0.83 null values\n",
      "There are 850235 unique sessions out of 954774 rows\n"
     ]
    },
    {
     "data": {
      "text/html": [
       "<div>\n",
       "<style scoped>\n",
       "    .dataframe tbody tr th:only-of-type {\n",
       "        vertical-align: middle;\n",
       "    }\n",
       "\n",
       "    .dataframe tbody tr th {\n",
       "        vertical-align: top;\n",
       "    }\n",
       "\n",
       "    .dataframe thead th {\n",
       "        text-align: right;\n",
       "    }\n",
       "</style>\n",
       "<table border=\"1\" class=\"dataframe\">\n",
       "  <thead>\n",
       "    <tr style=\"text-align: right;\">\n",
       "      <th></th>\n",
       "      <th>session</th>\n",
       "      <th>visitor</th>\n",
       "      <th>dt</th>\n",
       "      <th>custno</th>\n",
       "      <th>category</th>\n",
       "      <th>event1</th>\n",
       "      <th>event2</th>\n",
       "    </tr>\n",
       "  </thead>\n",
       "  <tbody>\n",
       "    <tr>\n",
       "      <th>0</th>\n",
       "      <td>419542</td>\n",
       "      <td>140970</td>\n",
       "      <td>2016-09-16 05:03:23</td>\n",
       "      <td>3840</td>\n",
       "      <td>1</td>\n",
       "      <td>NaN</td>\n",
       "      <td>1</td>\n",
       "    </tr>\n",
       "    <tr>\n",
       "      <th>1</th>\n",
       "      <td>3030130</td>\n",
       "      <td>14501</td>\n",
       "      <td>2017-11-13 04:58:12</td>\n",
       "      <td>70400</td>\n",
       "      <td>1</td>\n",
       "      <td>NaN</td>\n",
       "      <td>1</td>\n",
       "    </tr>\n",
       "  </tbody>\n",
       "</table>\n",
       "</div>"
      ],
      "text/plain": [
       "   session  visitor                   dt  custno  category  event1  event2\n",
       "0   419542   140970  2016-09-16 05:03:23    3840         1     NaN       1\n",
       "1  3030130    14501  2017-11-13 04:58:12   70400         1     NaN       1"
      ]
     },
     "execution_count": 4,
     "metadata": {},
     "output_type": "execute_result"
    }
   ],
   "source": [
    "print(online_data.describe())\n",
    "print('Target Catergories:',online_data.category.unique())\n",
    "print('Event1 has {0:.2f} null values'.format(online_data['event1'].isna().sum()/online_data['session'].count()))\n",
    "print('There are {} unique sessions out of {} rows'.format(online_data.session.nunique(),online_data['session'].count()))\n",
    "online_data.head(2)"
   ]
  },
  {
   "cell_type": "markdown",
   "metadata": {},
   "source": [
    "## Creating the dataset according to design"
   ]
  },
  {
   "cell_type": "code",
   "execution_count": 5,
   "metadata": {},
   "outputs": [],
   "source": [
    "# Limiting the date time to \"YYYY HH:\" inorder to match between the tables. Since the actual order time wasn't at the \n",
    "# exact time as the online activity\n",
    "online_data['date_merge'] = online_data.dt.apply(lambda x: x[:14])\n",
    "order_data['date_merge'] = order_data.orderdate.apply(lambda x: x[:14])\n",
    "\n",
    "# Merging the tables with a left join to keep all the customers activity\n",
    "df = online_data.merge(order_data,right_on=['custno', 'prodcat1','date_merge'],\\\n",
    "                        left_on=['custno', 'category','date_merge'],\\\n",
    "                        how='left')\n",
    "\n",
    "# Since we are only after to learn which category the customer is more likely to purchase. I'm keeping only the activities\n",
    "# that led to an order\n",
    "df = df[df['revenue'].notnull()]\n",
    "df.fillna(0,inplace=True)\n",
    "\n",
    "# Group by 'session','custno','category','ordno','prodcat2'\n",
    "df = df.groupby(['session','custno','category','ordno','prodcat2']).agg({\n",
    "        'event1': lambda x: x.sum(),\n",
    "        'event2': lambda x: x.sum(),\n",
    "        'date_merge': lambda x: x.max(),\n",
    "        'revenue': lambda x: x.max(),\n",
    "        'orderdate': lambda x: x.max()}).reset_index()"
   ]
  },
  {
   "cell_type": "code",
   "execution_count": 6,
   "metadata": {},
   "outputs": [
    {
     "data": {
      "text/html": [
       "<div>\n",
       "<style scoped>\n",
       "    .dataframe tbody tr th:only-of-type {\n",
       "        vertical-align: middle;\n",
       "    }\n",
       "\n",
       "    .dataframe tbody tr th {\n",
       "        vertical-align: top;\n",
       "    }\n",
       "\n",
       "    .dataframe thead th {\n",
       "        text-align: right;\n",
       "    }\n",
       "</style>\n",
       "<table border=\"1\" class=\"dataframe\">\n",
       "  <thead>\n",
       "    <tr style=\"text-align: right;\">\n",
       "      <th></th>\n",
       "      <th>session</th>\n",
       "      <th>custno</th>\n",
       "      <th>category</th>\n",
       "      <th>ordno</th>\n",
       "      <th>prodcat2</th>\n",
       "      <th>event1</th>\n",
       "      <th>event2</th>\n",
       "      <th>date_merge</th>\n",
       "      <th>revenue</th>\n",
       "      <th>orderdate</th>\n",
       "    </tr>\n",
       "  </thead>\n",
       "  <tbody>\n",
       "    <tr>\n",
       "      <th>0</th>\n",
       "      <td>283</td>\n",
       "      <td>22625</td>\n",
       "      <td>2</td>\n",
       "      <td>35614.0</td>\n",
       "      <td>3.0</td>\n",
       "      <td>0.0</td>\n",
       "      <td>4</td>\n",
       "      <td>2016-07-14 18:</td>\n",
       "      <td>20.82</td>\n",
       "      <td>2016-07-14 18:57:28</td>\n",
       "    </tr>\n",
       "    <tr>\n",
       "      <th>1</th>\n",
       "      <td>283</td>\n",
       "      <td>22625</td>\n",
       "      <td>2</td>\n",
       "      <td>35614.0</td>\n",
       "      <td>4.0</td>\n",
       "      <td>0.0</td>\n",
       "      <td>4</td>\n",
       "      <td>2016-07-14 18:</td>\n",
       "      <td>23.74</td>\n",
       "      <td>2016-07-14 18:57:28</td>\n",
       "    </tr>\n",
       "    <tr>\n",
       "      <th>2</th>\n",
       "      <td>932</td>\n",
       "      <td>61978</td>\n",
       "      <td>2</td>\n",
       "      <td>123507.0</td>\n",
       "      <td>5.0</td>\n",
       "      <td>1.0</td>\n",
       "      <td>7</td>\n",
       "      <td>2016-07-09 03:</td>\n",
       "      <td>51.28</td>\n",
       "      <td>2016-07-09 03:04:39</td>\n",
       "    </tr>\n",
       "    <tr>\n",
       "      <th>3</th>\n",
       "      <td>1109</td>\n",
       "      <td>20982</td>\n",
       "      <td>2</td>\n",
       "      <td>32674.0</td>\n",
       "      <td>3.0</td>\n",
       "      <td>2.0</td>\n",
       "      <td>7</td>\n",
       "      <td>2016-06-08 18:</td>\n",
       "      <td>31.11</td>\n",
       "      <td>2016-06-08 18:44:10</td>\n",
       "    </tr>\n",
       "    <tr>\n",
       "      <th>4</th>\n",
       "      <td>1353</td>\n",
       "      <td>7818</td>\n",
       "      <td>2</td>\n",
       "      <td>13912.0</td>\n",
       "      <td>3.0</td>\n",
       "      <td>0.0</td>\n",
       "      <td>3</td>\n",
       "      <td>2016-03-27 17:</td>\n",
       "      <td>93.27</td>\n",
       "      <td>2016-03-27 17:30:12</td>\n",
       "    </tr>\n",
       "  </tbody>\n",
       "</table>\n",
       "</div>"
      ],
      "text/plain": [
       "   session  custno  category     ordno  prodcat2  event1  event2      date_merge  revenue            orderdate\n",
       "0      283   22625         2   35614.0       3.0     0.0       4  2016-07-14 18:    20.82  2016-07-14 18:57:28\n",
       "1      283   22625         2   35614.0       4.0     0.0       4  2016-07-14 18:    23.74  2016-07-14 18:57:28\n",
       "2      932   61978         2  123507.0       5.0     1.0       7  2016-07-09 03:    51.28  2016-07-09 03:04:39\n",
       "3     1109   20982         2   32674.0       3.0     2.0       7  2016-06-08 18:    31.11  2016-06-08 18:44:10\n",
       "4     1353    7818         2   13912.0       3.0     0.0       3  2016-03-27 17:    93.27  2016-03-27 17:30:12"
      ]
     },
     "execution_count": 6,
     "metadata": {},
     "output_type": "execute_result"
    }
   ],
   "source": [
    "df.head()"
   ]
  },
  {
   "cell_type": "markdown",
   "metadata": {},
   "source": [
    "## Feature engineering"
   ]
  },
  {
   "cell_type": "markdown",
   "metadata": {},
   "source": [
    "Features ideas\n",
    "\n",
    "Revenue: \n",
    "Build features based on customer historical activity (prior to the current session): \n",
    "    1. Avg Revenue per item - Implemented\n",
    "    2. Max Revenue per item\n",
    "    3. Min Revenue per item\n",
    "\n",
    "Time: \n",
    "    1. Bin according to time of day (Morning, Noon, evening, Night). Can be timezone normalized. \n",
    "    2. Bin according to holidays in the year\n",
    "\n",
    "Orders: \n",
    "Build features based on customer historical orders (prior to the current session): \n",
    "    1. Number of orders - Implemented\n",
    "    2. Average number of items per order\n",
    "    3. Average revenue per order\n",
    "    4. Days since last purchase\n",
    "\n",
    "Events:\n",
    "    1. Sum of the total events (considering NaN as 0) - Implemented\n",
    "    2. Binary feature: If both events were used in a session (>0): 1-Yes ; 0- No\n",
    "\n",
    "prodcat2: Product details - Won't be used as it won't be available during the prediction time.\n"
   ]
  },
  {
   "cell_type": "code",
   "execution_count": 7,
   "metadata": {},
   "outputs": [],
   "source": [
    "# Create feature: customer historical revenue - Avg Revenue per item\n",
    "df['historical_avg_revenue']=df.apply(lambda x: df[(df.custno==x['custno']) & (df.date_merge < x['date_merge'])].revenue.values.mean() if len(df[(df.custno==x['custno']) & (df.date_merge < x['date_merge'])])> 0 else 0,axis=1).fillna(0)"
   ]
  },
  {
   "cell_type": "code",
   "execution_count": 8,
   "metadata": {},
   "outputs": [],
   "source": [
    "# Create feature: customer historical order - Number of orders\n",
    "df['historical_cnt_orders']=df.apply(lambda x: df[(df.custno==x['custno']) & (df.date_merge < x['date_merge'])].ordno.nunique(),axis=1)"
   ]
  },
  {
   "cell_type": "code",
   "execution_count": 9,
   "metadata": {},
   "outputs": [],
   "source": [
    "# Create feature: Sum of the total events\n",
    "df['Total_events'] = df.event1 + df.event2"
   ]
  },
  {
   "cell_type": "code",
   "execution_count": 10,
   "metadata": {},
   "outputs": [
    {
     "data": {
      "text/plain": [
       "Index(['session', 'custno', 'category', 'ordno', 'prodcat2', 'event1', 'event2', 'date_merge', 'revenue', 'orderdate', 'historical_avg_revenue', 'historical_cnt_orders', 'Total_events'], dtype='object')"
      ]
     },
     "execution_count": 10,
     "metadata": {},
     "output_type": "execute_result"
    }
   ],
   "source": [
    "df.columns"
   ]
  },
  {
   "cell_type": "markdown",
   "metadata": {},
   "source": [
    "## Feature selection"
   ]
  },
  {
   "cell_type": "code",
   "execution_count": 11,
   "metadata": {},
   "outputs": [],
   "source": [
    "# Remove columns which are no longer needed \n",
    "df.drop(['session','custno','ordno','date_merge','orderdate','prodcat2'],inplace=True,axis=1)"
   ]
  },
  {
   "cell_type": "code",
   "execution_count": 12,
   "metadata": {},
   "outputs": [
    {
     "data": {
      "text/plain": [
       "Index(['category', 'event1', 'event2', 'revenue', 'historical_avg_revenue', 'historical_cnt_orders', 'Total_events'], dtype='object')"
      ]
     },
     "execution_count": 12,
     "metadata": {},
     "output_type": "execute_result"
    }
   ],
   "source": [
    "df.columns"
   ]
  },
  {
   "cell_type": "code",
   "execution_count": 13,
   "metadata": {},
   "outputs": [
    {
     "name": "stdout",
     "output_type": "stream",
     "text": [
      "event1 \t\t F_onewayResult(statistic=38.55397074609412, pvalue=2.3340729064959642e-17)\n",
      "event2 \t\t F_onewayResult(statistic=9.249128299134853, pvalue=9.7642315632565e-05)\n",
      "revenue \t\t F_onewayResult(statistic=0.530173715612396, pvalue=0.588531655306214)\n",
      "historical_avg_revenue \t\t F_onewayResult(statistic=35.17675055757564, pvalue=6.548637878760568e-16)\n",
      "historical_cnt_orders \t\t F_onewayResult(statistic=38.365185721054566, pvalue=2.8119943016069365e-17)\n",
      "Total_events \t\t F_onewayResult(statistic=4.742058086087937, pvalue=0.008755005014894785)\n"
     ]
    }
   ],
   "source": [
    "# Perfroming an Anova test for each feature to see if they diffrentiate between the classes\n",
    "for feature in df.columns[1:]:\n",
    "    print(feature,'\\t'*2,stats.f_oneway(df[df.category==1][feature].values,df[df.category==2][feature].values,df[df.category==3][feature].values))"
   ]
  },
  {
   "cell_type": "code",
   "execution_count": 14,
   "metadata": {},
   "outputs": [],
   "source": [
    "# We can see that the revenue feature pvalue is higher than 0.05, so I'll remove it\n",
    "df.drop('revenue',inplace=True,axis=1)"
   ]
  },
  {
   "cell_type": "code",
   "execution_count": 15,
   "metadata": {},
   "outputs": [
    {
     "name": "stdout",
     "output_type": "stream",
     "text": [
      "----------------------------------------\n",
      " We can see some outliers in every feature, but I believe that they are not significate so we won't remove them\n",
      "For a project with many more features we can use clustering tools like: Local outlier factor and DBSCAN\n"
     ]
    },
    {
     "data": {
      "image/png": "[encoded data removed]",
      "text/plain": [
       "<Figure size 900x500 with 4 Axes>"
      ]
     },
     "metadata": {
      "needs_background": "light"
     },
     "output_type": "display_data"
    }
   ],
   "source": [
    "# looking at the main feature distribution to notice if we have major ourliers.\n",
    "plt.figure(figsize=(9,5), dpi=100)\n",
    "plt.subplot(141)\n",
    "ax = sns.boxplot(df[['event1']],orient='v')\n",
    "ax.set_xlabel('event1', fontsize=11)\n",
    "plt.subplot(142)\n",
    "ax = sns.boxplot(df[['event2']],orient='v')\n",
    "ax.set_xlabel('event2', fontsize=11)\n",
    "plt.subplot(143)\n",
    "ax = sns.boxplot(df[['historical_avg_revenue']],orient='v')\n",
    "ax.set_xlabel('historical_avg_revenue', fontsize=11)\n",
    "plt.subplot(144)\n",
    "ax = sns.boxplot(df[['historical_cnt_orders']],orient='v')\n",
    "ax.set_xlabel('historical_cnt_orders', fontsize=11)\n",
    "print('----------------------------------------\\n We can see some outliers in every feature, but I believe that they are not significate so we won\\'t remove them')\n",
    "print('For a project with many more features we can use clustering tools like: Local outlier factor and DBSCAN')"
   ]
  },
  {
   "cell_type": "code",
   "execution_count": 16,
   "metadata": {},
   "outputs": [
    {
     "name": "stdout",
     "output_type": "stream",
     "text": [
      "Visulazing 2 of the features distribution per category. \n",
      "This allows to see their distribution per category and have a feel if this feature has a good chance to diffrentiate \n",
      "between the classes\n",
      "----------------------------------------\n",
      "We can see that both features have a similar distribution between the classes. But we'll keep them to see how they'll \n",
      "perform in the model\n"
     ]
    },
    {
     "data": {
      "image/png": "[encoded data removed]",
      "text/plain": [
       "<Figure size 980x500 with 2 Axes>"
      ]
     },
     "metadata": {
      "needs_background": "light"
     },
     "output_type": "display_data"
    }
   ],
   "source": [
    "print('Visulazing 2 of the features distribution per category. \\nThis allows to see their distribution per category and have a feel if this feature has a good chance to diffrentiate \\nbetween the classes')\n",
    "plt.figure(figsize=(9.8,5), dpi=100)\n",
    "plt.subplot(121)\n",
    "ax = sns.violinplot('category', 'Total_events', data=df);\n",
    "# ax.set_title('Historical Risk vs. Current risk', fontsize=14)\n",
    "ax.set_ylabel('Total events', fontsize=12)\n",
    "ax.set_xlabel('$\\it{Target}$ variable: category', fontsize=12)\n",
    "\n",
    "plt.subplot(122)\n",
    "ax = sns.violinplot('category', 'historical_avg_revenue', data=df);\n",
    "ax.set_ylabel('Customer\\'s historical average revenue', fontsize=12)\n",
    "ax.set_xlabel('$\\it{Target}$ variable: category', fontsize=12)\n",
    "print('----------------------------------------\\nWe can see that both features have a similar distribution between the classes. But we\\'ll keep them to see how they\\'ll \\nperform in the model')"
   ]
  },
  {
   "cell_type": "markdown",
   "metadata": {},
   "source": [
    "## Model design and sampling"
   ]
  },
  {
   "cell_type": "code",
   "execution_count": 17,
   "metadata": {},
   "outputs": [
    {
     "name": "stdout",
     "output_type": "stream",
     "text": [
      "3    4072\n",
      "2    1209\n",
      "1     440\n",
      "Name: category, dtype: int64\n",
      "We can see that category 1 is not well represented and we have an unbalanced dataset\n"
     ]
    }
   ],
   "source": [
    "# Let's see the classes distribution in the complete dataset\n",
    "print(df.category.value_counts())\n",
    "print('We can see that category 1 is not well represented and we have an unbalanced dataset')"
   ]
  },
  {
   "cell_type": "code",
   "execution_count": 18,
   "metadata": {},
   "outputs": [
    {
     "name": "stdout",
     "output_type": "stream",
     "text": [
      "Comment: If we had more data, I would prefer to split the dataset into three groups: Training, Validation, Test. The reason for three groups is that we do the model tunning according to validation set feedback and then testing the model decision rule on a clean/unseen dataset (test set)\n"
     ]
    }
   ],
   "source": [
    "# Sampling the dataset into two groups: Training and Test.\n",
    "# Using stratify sampling to make sure we have the same distribution in the test set (since we have unbalanced dataset)\n",
    "# I've decided to split the data 80% for training and 20% for test.\n",
    "# Added random_state for reproducing the runs\n",
    "include_features = ['event1', 'event2', 'historical_avg_revenue', 'historical_cnt_orders', 'Total_events']\n",
    "X_train, X_test, y_train, y_test = train_test_split(df[include_features],\n",
    "                                                    df.category,\n",
    "                                                    test_size=0.2,\n",
    "                                                    stratify=df.category,\n",
    "                                                    random_state=42)\n",
    "print('Comment: If we had more data, I would prefer to split the dataset into three groups: Training, Validation, Test. The reason for three groups is that we do the model tunning according to validation set feedback and then testing the model decision rule on a clean/unseen dataset (test set)')"
   ]
  },
  {
   "cell_type": "code",
   "execution_count": 19,
   "metadata": {},
   "outputs": [],
   "source": [
    "# Since category 1 is not well represented I decided to give it more weigth\n",
    "class_weight = {1:10,\n",
    "               2:1,\n",
    "               3:1}\n",
    "\n",
    "# Designing Logistic regression model (Parametric model)\n",
    "# setting C with small number for more regularization (l2)\n",
    "logreg = LogisticRegression(C=1,random_state=42,n_jobs=-1)\n",
    "\n",
    "# Designing a RF model\n",
    "# setting max_depth=6, min_samples_leaf=10, and min_samples_split = 10 to avoid overfitting\n",
    "# setting max_features = 3 to create diverse trees\n",
    "model = RandomForestClassifier(n_estimators=500, \n",
    "                               criterion = 'entropy',\n",
    "                               max_depth=6, \n",
    "                               min_samples_leaf=10,\n",
    "                               min_samples_split = 10,\n",
    "                               bootstrap = False,                               \n",
    "                               max_features = 3,\n",
    "                               random_state=0,\n",
    "                               class_weight=class_weight,\n",
    "                               n_jobs=-1)"
   ]
  },
  {
   "cell_type": "markdown",
   "metadata": {},
   "source": [
    "## Model generation"
   ]
  },
  {
   "cell_type": "code",
   "execution_count": 20,
   "metadata": {},
   "outputs": [
    {
     "name": "stdout",
     "output_type": "stream",
     "text": [
      "RandomForestClassifier(bootstrap=False, ccp_alpha=0.0,\n",
      "                       class_weight={1: 10, 2: 1, 3: 1}, criterion='entropy',\n",
      "                       max_depth=6, max_features=3, max_leaf_nodes=None,\n",
      "                       max_samples=None, min_impurity_decrease=0.0,\n",
      "                       min_impurity_split=None, min_samples_leaf=10,\n",
      "                       min_samples_split=10, min_weight_fraction_leaf=0.0,\n",
      "                       n_estimators=500, n_jobs=-1, oob_score=False,\n",
      "                       random_state=0, verbose=0, warm_start=False)\n",
      "LogisticRegression(C=1, class_weight=None, dual=False, fit_intercept=True,\n",
      "                   intercept_scaling=1, l1_ratio=None, max_iter=100,\n",
      "                   multi_class='auto', n_jobs=-1, penalty='l2', random_state=42,\n",
      "                   solver='lbfgs', tol=0.0001, verbose=0, warm_start=False)\n"
     ]
    }
   ],
   "source": [
    "print(model.fit(X_train, y_train))\n",
    "print(logreg.fit(X_train, y_train))"
   ]
  },
  {
   "cell_type": "markdown",
   "metadata": {},
   "source": [
    "## Model evaluation"
   ]
  },
  {
   "cell_type": "code",
   "execution_count": 21,
   "metadata": {},
   "outputs": [
    {
     "name": "stdout",
     "output_type": "stream",
     "text": [
      "LR model\n",
      "               precision    recall  f1-score   support\n",
      "\n",
      "           1       0.00      0.00      0.00        88\n",
      "           2       0.00      0.00      0.00       242\n",
      "           3       0.71      1.00      0.83       815\n",
      "\n",
      "    accuracy                           0.71      1145\n",
      "   macro avg       0.24      0.33      0.28      1145\n",
      "weighted avg       0.51      0.71      0.59      1145\n",
      "\n",
      "We can see that the LR model doesn't work well with this data as it always predict category 3\n",
      "\n"
     ]
    },
    {
     "name": "stderr",
     "output_type": "stream",
     "text": [
      "/exlibris/urm/esploro/lib64/python3.6/site-packages/sklearn/metrics/_classification.py:1272: UndefinedMetricWarning: Precision and F-score are ill-defined and being set to 0.0 in labels with no predicted samples. Use `zero_division` parameter to control this behavior.\n",
      "  _warn_prf(average, modifier, msg_start, len(result))\n"
     ]
    },
    {
     "name": "stdout",
     "output_type": "stream",
     "text": [
      "RF model\n",
      "               precision    recall  f1-score   support\n",
      "\n",
      "           1       0.10      0.78      0.17        88\n",
      "           2       1.00      0.01      0.02       242\n",
      "           3       0.74      0.38      0.50       815\n",
      "\n",
      "    accuracy                           0.34      1145\n",
      "   macro avg       0.61      0.39      0.23      1145\n",
      "weighted avg       0.74      0.34      0.38      1145\n",
      "\n",
      "We can see that the RF model is better than the LR model, but have a total accuracy of 34%\n",
      "Based on the buisness need we can decide on the needed KPI and tune the model accordingly\n"
     ]
    }
   ],
   "source": [
    "y_pred = logreg.predict(X_test[include_features])\n",
    "print('LR model\\n',classification_report(y_test, y_pred, target_names=['1', '2','3']))\n",
    "print('We can see that the LR model doesn\\'t work well with this data as it always predict category 3\\n')\n",
    "\n",
    "y_pred = model.predict(X_test[include_features])\n",
    "cm = confusion_matrix(y_test, y_pred)\n",
    "print('RF model\\n',classification_report(y_test, y_pred, target_names=['1', '2','3']))\n",
    "print('We can see that the RF model is better than the LR model, but have a total accuracy of 34%')\n",
    "print('Based on the buisness need we can decide on the needed KPI and tune the model accordingly')"
   ]
  },
  {
   "cell_type": "code",
   "execution_count": 22,
   "metadata": {},
   "outputs": [
    {
     "name": "stdout",
     "output_type": "stream",
     "text": [
      "Here we can the samples from the test set. We can see that the model makes alot of mistakes by predicting class 1 when its actually class 3 and 2 (This is mainly because of the class weights that I configured)\n"
     ]
    },
    {
     "data": {
      "image/png": "[encoded data removed]",
      "text/plain": [
       "<Figure size 432x288 with 2 Axes>"
      ]
     },
     "metadata": {
      "needs_background": "light"
     },
     "output_type": "display_data"
    }
   ],
   "source": [
    "# We can visualize the confusion matrix for the RF model\n",
    "disp = plot_confusion_matrix(model, X_test, y_test,\n",
    "                                 display_labels=['1','2','3'],\n",
    "                                 cmap=plt.cm.Blues)\n",
    "disp.ax_.set_title('Confusion matrix')\n",
    "print('Here we can the samples from the test set. We can see that the model makes alot of mistakes by predicting class 1 when its actually class 3 and 2 (This is mainly because of the class weights that I configured)')"
   ]
  },
  {
   "cell_type": "code",
   "execution_count": 23,
   "metadata": {},
   "outputs": [
    {
     "name": "stdout",
     "output_type": "stream",
     "text": [
      "Most important features - RF\n",
      "----------------------------\n",
      "event2 \t\t\t\t 0.3114180880587827\n",
      "historical_avg_revenue \t\t\t\t 0.24193412336963716\n",
      "Total_events \t\t\t\t 0.21059660666181798\n",
      "historical_cnt_orders \t\t\t\t 0.19297931617414238\n",
      "event1 \t\t\t\t 0.04307186573561976\n",
      "\n",
      "We can see that event2 has the most influence among the features and event1 has the least influence\n"
     ]
    }
   ],
   "source": [
    "# Looking at Feature importance\n",
    "important_features_dict = {}\n",
    "for x,i in enumerate(model.feature_importances_):\n",
    "    important_features_dict[x]=i\n",
    "\n",
    "\n",
    "important_features_list = sorted(important_features_dict,\n",
    "                                 key=important_features_dict.get,\n",
    "                                 reverse=True)\n",
    "\n",
    "print('Most important features - RF')\n",
    "print('----------------------------')\n",
    "for k in important_features_list:\n",
    "    print(X_train.columns[k],'\\t'*4,important_features_dict.get(k))\n",
    "\n",
    "print('\\nWe can see that event2 has the most influence among the features and event1 has the least influence')"
   ]
  },
  {
   "cell_type": "markdown",
   "metadata": {},
   "source": [
    "## Summary"
   ]
  },
  {
   "cell_type": "markdown",
   "metadata": {},
   "source": [
    "I have designed a model based on the business question: if a customer buys a product, which product will it be. The dataset created represent sessions that resulted in an order. Each row represents the entire session activity with the product category that was purchased. The date set includes 5721 rows:\n",
    "category 1:     440\n",
    "category 2:    1209\n",
    "category 3:    4072\n",
    "\n",
    "I have trained two classification models (parametric - LR and A-parametric - RF). The LR didn't perform well as it predicted the same category for all samples. The RF model acted better, with 34% accuracy. With higher precision for categories 2 and 3. And a higher recall for category 1. The model macro-average for precision is 0.61 and for recall is 0.33 (simple average over the 3 categories). The most predictive feature was found to be event2.\n",
    "\n",
    "The business need is crucial for deciding on a single metric (KPI) to estimate the model performance. When understanding the business need, we can set appropriate KPIs and hopefully create a single metric that represents the model performance and will assist in models comparison."
   ]
  },
  {
   "cell_type": "code",
   "execution_count": null,
   "metadata": {},
   "outputs": [],
   "source": []
  }
 ],
 "metadata": {
  "kernelspec": {
   "display_name": "Python 3",
   "language": "python",
   "name": "python3"
  },
  "language_info": {
   "codemirror_mode": {
    "name": "ipython",
    "version": 3
   },
   "file_extension": ".py",
   "mimetype": "text/x-python",
   "name": "python",
   "nbconvert_exporter": "python",
   "pygments_lexer": "ipython3",
   "version": "3.6.8"
  }
 },
 "nbformat": 4,
 "nbformat_minor": 2
}
